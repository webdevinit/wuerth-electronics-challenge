{
 "cells": [
  {
   "cell_type": "code",
   "execution_count": null,
   "metadata": {},
   "outputs": [
    {
     "ename": "TypeError",
     "evalue": "'numpy.ndarray' object is not callable",
     "output_type": "error",
     "traceback": [
      "\u001b[31m---------------------------------------------------------------------------\u001b[39m",
      "\u001b[31mTypeError\u001b[39m                                 Traceback (most recent call last)",
      "\u001b[36mCell\u001b[39m\u001b[36m \u001b[39m\u001b[32mIn[29]\u001b[39m\u001b[32m, line 5\u001b[39m\n\u001b[32m      3\u001b[39m ed = pd.read_excel(\u001b[33m\"\u001b[39m\u001b[33m/Users/marcrodig/Development/wuerth-electronics-challenge/samples/bom.xlsx\u001b[39m\u001b[33m\"\u001b[39m)\n\u001b[32m      4\u001b[39m all_rows = []\n\u001b[32m----> \u001b[39m\u001b[32m5\u001b[39m \u001b[38;5;28;01mfor\u001b[39;00m df \u001b[38;5;129;01min\u001b[39;00m \u001b[43med\u001b[49m\u001b[43m.\u001b[49m\u001b[43mvalues\u001b[49m\u001b[43m(\u001b[49m\u001b[43m)\u001b[49m:\n\u001b[32m      6\u001b[39m     df = df.fillna(\u001b[33m'\u001b[39m\u001b[33m'\u001b[39m)\n\u001b[32m      7\u001b[39m     all_rows.extend(df.to_dict(\u001b[33m'\u001b[39m\u001b[33mrecords\u001b[39m\u001b[33m'\u001b[39m))\n",
      "\u001b[31mTypeError\u001b[39m: 'numpy.ndarray' object is not callable"
     ]
    }
   ],
   "source": [
    "from main_processor_input import * \n",
    "import pandas as pd \n",
    "ed = pd.read_excel(\"/Users/marcrodig/Development/wuerth-electronics-challenge/samples/bom.xlsx\", sheet_name=None)\n",
    "all_rows = []\n",
    "for df in ed.values():\n",
    "    df = df.fillna('')\n",
    "    all_rows.extend(df.to_dict('records'))\n",
    "\n",
    "chunkedrows = chunk_rows(all_rows, 200)\n",
    "serialnumbers = extract_serial_numbers(chunkedrows, 200)"
   ]
  },
  {
   "cell_type": "code",
   "execution_count": null,
   "metadata": {},
   "outputs": [],
   "source": [
    "from openaispecsheetsearch import get_component_model_from_partnumber\n",
    "components = [get_component_model_from_partnumber(n) for n in serialnumbers]"
   ]
  },
  {
   "cell_type": "code",
   "execution_count": null,
   "metadata": {},
   "outputs": [],
   "source": [
    "from othertowürth import process_parsed_component\n",
    "würthcomponents = [process_parsed_component(component) for component in components]\n"
   ]
  }
 ],
 "metadata": {
  "kernelspec": {
   "display_name": "venv",
   "language": "python",
   "name": "python3"
  },
  "language_info": {
   "codemirror_mode": {
    "name": "ipython",
    "version": 3
   },
   "file_extension": ".py",
   "mimetype": "text/x-python",
   "name": "python",
   "nbconvert_exporter": "python",
   "pygments_lexer": "ipython3",
   "version": "3.13.2"
  }
 },
 "nbformat": 4,
 "nbformat_minor": 2
}
